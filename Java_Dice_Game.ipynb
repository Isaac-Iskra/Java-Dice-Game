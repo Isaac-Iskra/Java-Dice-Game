{
  "nbformat": 4,
  "nbformat_minor": 0,
  "metadata": {
    "colab": {
      "provenance": []
    },
    "kernelspec": {
      "name": "python3",
      "display_name": "Python 3"
    },
    "language_info": {
      "name": "python"
    }
  },
  "cells": [
    {
      "cell_type": "code",
      "execution_count": null,
      "metadata": {
        "id": "mZvYMGB9obu8"
      },
      "outputs": [],
      "source": [
        "import java.util.Random;\n",
        "\n",
        "public class DiceGame {\n",
        "  public static void main(String[] args) {\n",
        "    int maxRolls = 3;\n",
        "    int totalScore = 0;\n",
        "    Random random = new Random();\n",
        "\n",
        "    System.out.println(\"Welcome to the Dice Game!\");\n",
        "    System.out.println(\"You have \" + maxRolls + \" rolls to score as high as possible.\");\n",
        "\n",
        "    for (int i = 0; i < maxRolls; i++) {\n",
        "      int roll = random.nextInt(6) + 1;\n",
        "      System.out.println(\"Roll #\" + (i+1) + \": \" + roll);\n",
        "      totalScore += roll;\n",
        "    }\n",
        "\n",
        "    System.out.println(\"Game over! Your total score is \" + totalScore);\n",
        "  }\n",
        "}"
      ]
    },
    {
      "cell_type": "markdown",
      "source": [
        "Another way to write the game is as follows:"
      ],
      "metadata": {
        "id": "7lCMS-2WpJ_0"
      }
    },
    {
      "cell_type": "code",
      "source": [
        "import java.util.Random;\n",
        "\n",
        "public class DiceGame {\n",
        "\n",
        "    public static void main(String[] args) {\n",
        "        int numRolls = 3; // number of rolls per player\n",
        "        int player1Score = 0;\n",
        "        int player2Score = 0;\n",
        "\n",
        "        // create a new random number generator\n",
        "        Random rand = new Random();\n",
        "\n",
        "        // loop through the number of rolls for each player\n",
        "        for (int i = 0; i < numRolls; i++) {\n",
        "            // player 1 rolls the dice\n",
        "            int player1Roll = rand.nextInt(6) + 1;\n",
        "            System.out.println(\"Player 1 rolls: \" + player1Roll);\n",
        "\n",
        "            // player 2 rolls the dice\n",
        "            int player2Roll = rand.nextInt(6) + 1;\n",
        "            System.out.println(\"Player 2 rolls: \" + player2Roll);\n",
        "\n",
        "            // compare the rolls and update the scores\n",
        "            if (player1Roll > player2Roll) {\n",
        "                player1Score++;\n",
        "                System.out.println(\"Player 1 wins this round!\");\n",
        "            } else if (player2Roll > player1Roll) {\n",
        "                player2Score++;\n",
        "                System.out.println(\"Player 2 wins this round!\");\n",
        "            } else {\n",
        "                System.out.println(\"It's a tie!\");\n",
        "            }\n",
        "        }\n",
        "\n",
        "        // determine the winner\n",
        "        if (player1Score > player2Score) {\n",
        "            System.out.println(\"Player 1 wins the game with a score of \" + player1Score + \" to \" + player2Score);\n",
        "        } else if (player2Score > player1Score) {\n",
        "            System.out.println(\"Player 2 wins the game with a score of \" + player2Score + \" to \" + player1Score);\n",
        "        } else {\n",
        "            System.out.println(\"The game is tied with a score of \" + player1Score + \" to \" + player2Score);\n",
        "        }\n",
        "    }\n",
        "\n",
        "}\n"
      ],
      "metadata": {
        "id": "9c6u5MPYpM-m"
      },
      "execution_count": null,
      "outputs": []
    }
  ]
}